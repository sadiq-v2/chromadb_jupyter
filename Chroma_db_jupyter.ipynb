{
 "cells": [
  {
   "cell_type": "code",
   "execution_count": 1,
   "metadata": {},
   "outputs": [],
   "source": [
    "import json\n",
    "import concurrent.futures\n",
    "from langchain.text_splitter import RecursiveCharacterTextSplitter\n",
    "from langchain.vectorstores import Chroma\n",
    "from langchain_community.embeddings import HuggingFaceBgeEmbeddings\n",
    "from langchain.docstore.document import Document\n",
    "import ollama as client"
   ]
  },
  {
   "cell_type": "code",
   "execution_count": 2,
   "metadata": {},
   "outputs": [
    {
     "name": "stderr",
     "output_type": "stream",
     "text": [
      "c:\\Users\\sohelkhan.pathan\\AppData\\Local\\Programs\\Python\\Python312\\Lib\\site-packages\\sentence_transformers\\cross_encoder\\CrossEncoder.py:11: TqdmWarning: IProgress not found. Please update jupyter and ipywidgets. See https://ipywidgets.readthedocs.io/en/stable/user_install.html\n",
      "  from tqdm.autonotebook import tqdm, trange\n",
      "c:\\Users\\sohelkhan.pathan\\AppData\\Local\\Programs\\Python\\Python312\\Lib\\site-packages\\huggingface_hub\\file_download.py:1132: FutureWarning: `resume_download` is deprecated and will be removed in version 1.0.0. Downloads always resume when possible. If you want to force a new download, use `force_download=True`.\n",
      "  warnings.warn(\n"
     ]
    }
   ],
   "source": [
    "# Embedding configuration\n",
    "model_name = \"BAAI/bge-base-en\"\n",
    "encode_kwargs = {'normalize_embeddings': True}\n",
    "embedding = HuggingFaceBgeEmbeddings(\n",
    "    model_name=model_name,\n",
    "    model_kwargs={'device': 'cpu'},\n",
    "    encode_kwargs=encode_kwargs\n",
    ")"
   ]
  },
  {
   "cell_type": "code",
   "execution_count": 3,
   "metadata": {},
   "outputs": [],
   "source": [
    "# Function to load JSON lines\n",
    "class JSONLinesLoader:\n",
    "    def __init__(self, file_path):\n",
    "        self.file_path = file_path\n",
    "    \n",
    "    def load(self):\n",
    "        documents = []\n",
    "        with open(self.file_path, 'r', encoding='utf-8') as f:\n",
    "            for line in f:\n",
    "                try:\n",
    "                    doc = json.loads(line)\n",
    "                    documents.append(doc)\n",
    "                except json.JSONDecodeError as e:\n",
    "                    print(f\"Error decoding JSON: {e}\")\n",
    "        return documents"
   ]
  },
  {
   "cell_type": "code",
   "execution_count": 4,
   "metadata": {},
   "outputs": [],
   "source": [
    "# Function to process documents and split text\n",
    "def process_documents(docs):\n",
    "    doc_objects = [Document(page_content=json.dumps(doc)) for doc in docs]\n",
    "    text_splitter = RecursiveCharacterTextSplitter(separators=[\"\\n\"])\n",
    "    return text_splitter.split_documents(doc_objects)"
   ]
  },
  {
   "cell_type": "code",
   "execution_count": 5,
   "metadata": {},
   "outputs": [],
   "source": [
    "json_file_path = r'./input_people_data_02.json'\n",
    "loader = JSONLinesLoader(json_file_path)\n",
    "documents = loader.load()"
   ]
  },
  {
   "cell_type": "code",
   "execution_count": 12,
   "metadata": {},
   "outputs": [],
   "source": [
    "# Split documents in parallel\n",
    "batch_size = 100  # Adjust based on memory capacity\n",
    "num_batches = len(documents) // batch_size + 1\n",
    "batches = [documents[i*batch_size:(i+1)*batch_size] for i in range(num_batches)]\n"
   ]
  },
  {
   "cell_type": "code",
   "execution_count": 7,
   "metadata": {},
   "outputs": [
    {
     "data": {
      "text/plain": [
       "999"
      ]
     },
     "execution_count": 7,
     "metadata": {},
     "output_type": "execute_result"
    }
   ],
   "source": [
    "len(documents)"
   ]
  },
  {
   "cell_type": "code",
   "execution_count": 11,
   "metadata": {},
   "outputs": [
    {
     "name": "stdout",
     "output_type": "stream",
     "text": [
      "10\n"
     ]
    }
   ],
   "source": [
    "\n",
    "print(batches)"
   ]
  },
  {
   "cell_type": "code",
   "execution_count": 13,
   "metadata": {},
   "outputs": [],
   "source": [
    "with concurrent.futures.ThreadPoolExecutor() as executor:\n",
    "    split_texts_batches = list(executor.map(process_documents, batches))"
   ]
  },
  {
   "cell_type": "code",
   "execution_count": 14,
   "metadata": {},
   "outputs": [],
   "source": [
    "# Flatten the list of lists into a single list\n",
    "split_texts = [text for batch in split_texts_batches for text in batch]"
   ]
  },
  {
   "cell_type": "code",
   "execution_count": 15,
   "metadata": {},
   "outputs": [],
   "source": [
    "# Create the vector database\n",
    "vector_db = Chroma.from_documents(\n",
    "    documents=split_texts, \n",
    "    embedding=embedding,\n",
    "    collection_name=\"local-rag\"\n",
    ")"
   ]
  },
  {
   "cell_type": "code",
   "execution_count": 16,
   "metadata": {},
   "outputs": [],
   "source": [
    "# Function to ask a question using Llama3 model with dynamic context handling\n",
    "def ask_question(query, context=None, model=\"llama3\"):\n",
    "    if context:\n",
    "        messages = [\n",
    "            {\"role\": \"system\", \"content\": \"You are an assistant that provides detailed information based on the provided context.\"},\n",
    "            {\"role\": \"user\", \"content\": f\"{context}\\n{query}\"}\n",
    "        ]\n",
    "    else:\n",
    "        messages = [\n",
    "            {\"role\": \"system\", \"content\": \"You are an assistant that provides detailed information based on global knowledge.\"},\n",
    "            {\"role\": \"user\", \"content\": query}\n",
    "        ]\n",
    "\n",
    "    try:\n",
    "        response = client.chat(\n",
    "            model=model,\n",
    "            messages=messages\n",
    "        )\n",
    "\n",
    "        if 'message' in response and 'content' in response['message']:\n",
    "            return response['message']['content']\n",
    "        else:\n",
    "            return \"There was an issue with processing your request.\"\n",
    "\n",
    "    except Exception as e:\n",
    "        print(f\"Exception occurred: {e}\")\n",
    "        return \"There was an error processing your request.\""
   ]
  },
  {
   "cell_type": "code",
   "execution_count": 18,
   "metadata": {},
   "outputs": [
    {
     "name": "stdout",
     "output_type": "stream",
     "text": [
      "Expanded context: Here's an expansion on your prompt:\n",
      "\n",
      "Ivy League colleges are a group of prestigious private universities in the United States known for their academic excellence and selectivity. Many notable individuals have studied at these institutions, going on to achieve great success in various fields. For instance, Barack Obama, the 44th President of the United States, attended Columbia University, an Ivy League school. Another example is Michelle Obama, who studied sociology and African American studies at Princeton University, also an Ivy League institution.\n",
      "\n",
      "Some notable persons who have studied from Ivy colleges include: Elon Musk (Wharton School, University of Pennsylvania); Steve Jobs (Harvard College); Mark Zuckerberg (Columbia University); Bill Gates (Harvard College); Oprah Winfrey (Indiana University Bloomington, not an Ivy League school but a notable alumna); Jeff Bezos (Princeton University); and many more. These individuals have gone on to found successful companies like SpaceX, Apple, Facebook, Microsoft, and Amazon, among others. Additionally, there are numerous Nobel laureates, Pulitzer Prize winners, and leaders in various fields who have graduated from Ivy League colleges. The rigorous academic environment at these institutions has clearly provided a strong foundation for many of these individuals' future achievements.\n"
     ]
    }
   ],
   "source": [
    "# User interaction\n",
    "query = input(\"Enter prompt: \")\n",
    "prompt = f'AI agent, please expand one or two paragraph to my prompt starts here: {query}'\n",
    "expanded_context = ask_question(prompt)\n",
    "print(\"Expanded context:\", expanded_context)"
   ]
  },
  {
   "cell_type": "code",
   "execution_count": null,
   "metadata": {},
   "outputs": [],
   "source": []
  },
  {
   "cell_type": "code",
   "execution_count": 19,
   "metadata": {},
   "outputs": [
    {
     "name": "stdout",
     "output_type": "stream",
     "text": [
      "Similarity search results: [Document(page_content='{\"person_id\": 93800062, \"name\": \"Wifredo \\\\\"Wifi\\\\\" Fernandez\", \"education\": [{\"institution_name\": \"Harvard Business School Executive Education\", \"degree\": \"NaN\", \"subject\": \"NaN\", \"started_on\": \"2015-01-01\", \"ended_on\": \"2015-01-01\"}, {\"institution_name\": \"American University\", \"degree\": \"Masters;Master Of Arts\", \"subject\": \"Teaching\", \"started_on\": \"2009-01-01\", \"ended_on\": \"2011-01-01\"}, {\"institution_name\": \"University Of Miami School Of Law\", \"degree\": \"Doctor Of Jurisprudence;Doctorates;Masters;Master Of Laws\", \"subject\": \"International Law;Law\", \"started_on\": \"2017-01-01\", \"ended_on\": \"2020-01-01\"}, {\"institution_name\": \"Comillas Pontifical University\", \"degree\": \"NaN\", \"subject\": \"Business Administration;Management;Business Administration And Management\", \"started_on\": \"2007-01-01\", \"ended_on\": \"2007-01-01\"}, {\"institution_name\": \"Ransom Everglades School\", \"degree\": \"NaN\", \"subject\": \"NaN\", \"started_on\": \"2001-01-01\", \"ended_on\": \"2005-01-01\"}, {\"institution_name\": \"University Of Pennsylvania\", \"degree\": \"Bachelors;Bachelor Of Arts\", \"subject\": \"Political Science\", \"started_on\": \"2005-01-01\", \"ended_on\": \"2009-01-01\"}, {\"institution_name\": \"Universidad Pontificia Comillas\", \"degree\": \"NaN\", \"subject\": \"Business Administration;Management;Business Administration And Management\", \"started_on\": \"2007-01-01\", \"ended_on\": \"2007-01-01\"}, {\"institution_name\": \"Luma Institute\", \"degree\": \"NaN\", \"subject\": \"Design\", \"started_on\": \"2014-01-01\", \"ended_on\": \"2014-01-01\"}], \"employments\": [{\"company_name\": \"Skywork, Online Education\", \"seniority_level\": \"NaN\", \"title\": \"Education Lead\", \"position_description\": \"NaN\", \"started_on\": \"02/01/2012\", \"ended_on\": \"06/01/2013\"}, {\"company_name\": \"United States District Court for the Southern District of Florida\", \"seniority_level\": \"NaN\", \"title\": \"Judicial Intern, The Honorable Robert N. Scola, Jr.\", \"position_description\": \"NaN\", \"started_on\": \"05/01/2018\", \"ended_on\": \"08/01/2018\"}, {\"company_name\": \"Technical University of Madrid\", \"seniority_level\": \"NaN\", \"title\": \"Visiting Lecturer\", \"position_description\": \"NaN\", \"started_on\": \"04/01/2015\", \"ended_on\": \"04/01/2015\"}, {\"company_name\": \"Akerman LLP\", \"seniority_level\": \"NaN\", \"title\": \"Law Clerk\", \"position_description\": \"NaN\", \"started_on\": \"07/01/2019\", \"ended_on\": \"10/01/2019\"}, {\"company_name\": \"University of Miami School of Law\", \"seniority_level\": \"Board Member\", \"title\": \"Visiting Fellow on Social Enterprise, Member of Advisory Board - Center for Ethics & Public Service\", \"position_description\": \"NaN\", \"started_on\": \"02/01/2013\", \"ended_on\": \"08/01/2017\"}, {\"company_name\": \"Florida International University\", \"seniority_level\": \"Director\", \"title\": \"Associate Director\", \"position_description\": \"NaN\", \"started_on\": \"01/01/2016\", \"ended_on\": \"08/01/2017\"}, {\"company_name\": \"Florida International University\", \"seniority_level\": \"NaN\", \"title\": \"Faculty Fellow\", \"position_description\": \"NaN\", \"started_on\": \"10/01/2015\", \"ended_on\": \"06/01/2017\"}, {\"company_name\": \"Miami Dade College\", \"seniority_level\": \"Director\", \"title\": \"Founding Director, CREATE Miami\", \"position_description\": \"NaN\", \"started_on\": \"06/01/2014\", \"ended_on\": \"01/01/2016\"}, {\"company_name\": \"Miami Dade College\", \"seniority_level\": \"NaN\", \"title\": \"Adjunct Faculty, Social Sciences\", \"position_description\": \"NaN\", \"started_on\": \"08/01/2012\", \"ended_on\": \"01/01/2016\"}, {\"company_name\": \"The LAB Miami\", \"seniority_level\": \"CXO\", \"title\": \"Co-Founder & Former CEO, Board Member\", \"position_description\": \"NaN\", \"started_on\": \"07/01/2011\", \"ended_on\": \"08/01/2017\"}, {\"company_name\": \"Teach for America\", \"seniority_level\": \"NaN\", \"title\": \"Teach For America Corps Member\", \"position_description\": \"NaN\", \"started_on\": \"08/01/2009\", \"ended_on\": \"06/01/2011\"}, {\"company_name\": \"Sucden\", \"seniority_level\": \"NaN\", \"title\": \"Trading Assistant\", \"position_description\": \"NaN\", \"started_on\": \"05/01/2008\", \"ended_on\": \"08/01/2008\"}, {\"company_name\": \"U.S. Department of Commerce\", \"seniority_level\": \"NaN\", \"title\": \"International Trade Associate\", \"position_description\": \"NaN\", \"started_on\": \"01/01/2008\", \"ended_on\": \"06/01/2008\"}, {\"company_name\": \"Lightspeed Venture Partners\", \"seniority_level\": \"NaN\", \"title\": \"Investor / Scout\", \"position_description\": \"NaN\", \"started_on\": \"09/01/2020\", \"ended_on\": \"NaN\"}, {\"company_name\": \"The Launch Pad At Um\", \"seniority_level\": \"NaN\", \"title\": \"Legal Fellow & Venture Consultant\", \"position_description\": \"NaN\", \"started_on\": \"08/01/2018\", \"ended_on\": \"05/01/2019\"}, {\"company_name\": \"Cyber Civil Rights Initiative\", \"seniority_level\": \"NaN\", \"title\": \"Legal Fellow\", \"position_description\": \"NaN\", \"started_on\": \"09/01/2019\", \"ended_on\": \"09/01/2020\"}, {\"company_name\": \"Twitter\", \"seniority_level\": \"NaN\", \"title\": \"Head of US State & Local Public Policy\", \"position_description\": \"NaN\", \"started_on\": \"04/01/2022\", \"ended_on\": \"NaN\", \"company_revenue_amount_usd\": 1411687950.0, \"company_headcount\": 3346}, {\"company_name\": \"Twitter\", \"seniority_level\": \"Manager\", \"title\": \"Public Policy Manager, Federal, State & Local\", \"position_description\": \"NaN\", \"started_on\": \"09/01/2020\", \"ended_on\": \"04/01/2022\", \"company_revenue_amount_usd\": 1411687950.0, \"company_headcount\": 3346}, {\"company_name\": \"Twitter\", \"seniority_level\": \"NaN\", \"title\": \"Public Policy Fellow\", \"position_description\": \"NaN\", \"started_on\": \"02/01/2019\", \"ended_on\": \"07/01/2019\", \"company_revenue_amount_usd\": 1411687950.0, \"company_headcount\": 3346}, {\"company_name\": \"Wharton School of the University of Pennsylvania\", \"seniority_level\": \"NaN\", \"title\": \"Research Assisant\", \"position_description\": \"NaN\", \"started_on\": \"09/01/2006\", \"ended_on\": \"05/01/2009\"}, {\"company_name\": \"Tutors & More, Inc.\", \"seniority_level\": \"NaN\", \"title\": \"Academic Tutor\", \"position_description\": \"NaN\", \"started_on\": \"07/01/2011\", \"ended_on\": \"06/01/2012\"}]}'), Document(page_content='{\"person_id\": 87452285, \"name\": \"Steven Feis\", \"education\": [{\"institution_name\": \"Udacity\", \"degree\": \"NaN\", \"subject\": \"NaN\", \"started_on\": \"2020-01-01\", \"ended_on\": \"2020-01-01\"}, {\"institution_name\": \"Amazon Machine Learning University\", \"degree\": \"NaN\", \"subject\": \"NaN\", \"started_on\": \"2018-01-01\", \"ended_on\": \"2018-01-01\"}, {\"institution_name\": \"University Of Pennsylvania - The Lauder Institute\", \"degree\": \"Masters;Master Of Arts\", \"subject\": \"International Studies\", \"started_on\": \"2014-01-01\", \"ended_on\": \"2016-01-01\"}, {\"institution_name\": \"Middlebury College\", \"degree\": \"NaN\", \"subject\": \"NaN\", \"started_on\": \"NaN\", \"ended_on\": \"NaN\"}, {\"institution_name\": \"The Wharton School\", \"degree\": \"Master Of Business Administration;Masters\", \"subject\": \"Statistics\", \"started_on\": \"2014-01-01\", \"ended_on\": \"2016-01-01\"}, {\"institution_name\": \"Universit\\\\u00e0 Degli Studi Di Milano\", \"degree\": \"NaN\", \"subject\": \"NaN\", \"started_on\": \"NaN\", \"ended_on\": \"NaN\"}, {\"institution_name\": \"Yale University\", \"degree\": \"Bachelors;Bachelor Of Arts\", \"subject\": \"Cognitive Science;Music;History\", \"started_on\": \"2007-01-01\", \"ended_on\": \"2011-01-01\"}], \"employments\": [{\"company_name\": \"NaN\", \"seniority_level\": \"CXO\", \"title\": \"Founder and CEO\", \"position_description\": \"NaN\", \"started_on\": \"09/01/2012\", \"ended_on\": \"05/01/2014\"}, {\"company_name\": \"Amazon\", \"seniority_level\": \"NaN\", \"title\": \"Senior Manager of Product Management - Technical\", \"position_description\": \"NaN\", \"started_on\": \"05/01/2016\", \"ended_on\": \"NaN\", \"company_revenue_amount_usd\": 211502699971.0, \"company_headcount\": 750138}, {\"company_name\": \"Amazon\", \"seniority_level\": \"NaN\", \"title\": \"Senior Product Manager Intern\", \"position_description\": \"NaN\", \"started_on\": \"06/01/2015\", \"ended_on\": \"08/01/2015\", \"company_revenue_amount_usd\": 211502699971.0, \"company_headcount\": 750138}, {\"company_name\": \"Custora\", \"seniority_level\": \"NaN\", \"title\": \"Senior Product Manager Intern\", \"position_description\": \"NaN\", \"started_on\": \"01/01/2016\", \"ended_on\": \"05/01/2016\"}, {\"company_name\": \"Eunice Kennedy Shriver\\\\u00a0national Institute Of Child Health And Human Development (Nichd)\", \"seniority_level\": \"NaN\", \"title\": \"Biomedical Research Intern\", \"position_description\": \"NaN\", \"started_on\": \"05/01/2010\", \"ended_on\": \"06/01/2010\"}, {\"company_name\": \"National Cancer Institute\", \"seniority_level\": \"NaN\", \"title\": \"Biomedical research internships\", \"position_description\": \"NaN\", \"started_on\": \"05/01/2005\", \"ended_on\": \"08/01/2007\"}, {\"company_name\": \"Fulbright Association\", \"seniority_level\": \"NaN\", \"title\": \"Fulbright Scholar\", \"position_description\": \"NaN\", \"started_on\": \"09/01/2011\", \"ended_on\": \"07/01/2012\"}]}'), Document(page_content='{\"person_id\": 27743022, \"name\": \"Rich Sullivan\", \"education\": [{\"institution_name\": \"Columbia Business School\", \"degree\": \"Master Of Business Administration;Masters\", \"subject\": \"NaN\", \"started_on\": \"1986-01-01\", \"ended_on\": \"1990-01-01\"}, {\"institution_name\": \"Hamilton College\", \"degree\": \"NaN\", \"subject\": \"Economics\", \"started_on\": \"1991-01-01\", \"ended_on\": \"1995-01-01\"}, {\"institution_name\": \"Columbia Business School\", \"degree\": \"Master Of Business Administration;Masters\", \"subject\": \"NaN\", \"started_on\": \"1999-01-01\", \"ended_on\": \"2001-01-01\"}], \"employments\": [{\"company_name\": \"NaN\", \"seniority_level\": \"CXO\", \"title\": \"Chief Financial Officer\", \"position_description\": \"NaN\", \"started_on\": \"12/11/2022\", \"ended_on\": \"NaN\"}, {\"company_name\": \"DreamWorks Animation\", \"seniority_level\": \"CXO\", \"title\": \"Deputy Chief Financial Officer\", \"position_description\": \"NaN\", \"started_on\": \"10/06/2012\", \"ended_on\": \"09/06/2014\"}, {\"company_name\": \"DreamWorks Animation\", \"seniority_level\": \"NaN\", \"title\": \"Head of Corporate Finance\", \"position_description\": \"NaN\", \"started_on\": \"10/06/2009\", \"ended_on\": \"10/06/2012\"}, {\"company_name\": \"DreamWorks Animation\", \"seniority_level\": \"NaN\", \"title\": \"Head of Investor Relations\", \"position_description\": \"NaN\", \"started_on\": \"01/06/2005\", \"ended_on\": \"10/06/2007\"}, {\"company_name\": \"DreamWorks Animation\", \"seniority_level\": \"NaN\", \"title\": \"Treasurer/Head of Investor Relations\", \"position_description\": \"NaN\", \"started_on\": \"10/06/2007\", \"ended_on\": \"10/06/2009\"}, {\"company_name\": \"Deutsche Bank\", \"seniority_level\": \"NaN\", \"title\": \"Telecom Mergers and Acquisitions\", \"position_description\": \"NaN\", \"started_on\": \"05/01/2001\", \"ended_on\": \"01/01/2002\", \"company_revenue_amount_usd\": 6888312079.0, \"company_headcount\": 60252}, {\"company_name\": \"Acorns\", \"seniority_level\": \"CXO\", \"title\": \"Chief Financial Officer\", \"position_description\": \"NaN\", \"started_on\": \"08/06/2021\", \"ended_on\": \"12/06/2022\"}, {\"company_name\": \"STX Entertainment\", \"seniority_level\": \"CXO\", \"title\": \"Chief Financial Officer\", \"position_description\": \"NaN\", \"started_on\": \"09/01/2014\", \"ended_on\": \"01/01/2017\"}, {\"company_name\": \"STX Entertainment\", \"seniority_level\": \"CXO\", \"title\": \"Chief Operating Officer- STXdigital and Alternative Programming\", \"position_description\": \"NaN\", \"started_on\": \"01/01/2017\", \"ended_on\": \"06/01/2019\"}, {\"company_name\": \"STX Entertainment\", \"seniority_level\": \"CXO\", \"title\": \"Chief Operating Officer- STXdigital and Alternative Programming\", \"position_description\": \"NaN\", \"started_on\": \"01/11/2017\", \"ended_on\": \"06/11/2019\"}, {\"company_name\": \"STX Entertainment\", \"seniority_level\": \"CXO\", \"title\": \"Chief Financial Officer\", \"position_description\": \"NaN\", \"started_on\": \"09/06/2014\", \"ended_on\": \"01/06/2017\"}, {\"company_name\": \"STX Entertainment\", \"seniority_level\": \"CXO\", \"title\": \"Chief Operating Officer- STXdigital and Alternative Programming\", \"position_description\": \"NaN\", \"started_on\": \"01/06/2017\", \"ended_on\": \"06/06/2019\"}, {\"company_name\": \"Twitter\", \"seniority_level\": \"VP\", \"title\": \"Vice President Of Finance\", \"position_description\": \"NaN\", \"started_on\": \"09/01/2019\", \"ended_on\": \"NaN\", \"company_revenue_amount_usd\": 1411687950.0, \"company_headcount\": 3346}, {\"company_name\": \"Twitter\", \"seniority_level\": \"VP\", \"title\": \"VP of Finance (FP&A)\", \"position_description\": \"NaN\", \"started_on\": \"08/06/2019\", \"ended_on\": \"08/06/2021\", \"company_revenue_amount_usd\": 1411687950.0, \"company_headcount\": 3346}, {\"company_name\": \"ATT InoxDrain\", \"seniority_level\": \"NaN\", \"title\": \"Corporate Mergers and Acquisitions\", \"position_description\": \"NaN\", \"started_on\": \"01/01/1997\", \"ended_on\": \"01/01/2000\"}, {\"company_name\": \"ATT InoxDrain\", \"seniority_level\": \"NaN\", \"title\": \"Financial Leadership Program\", \"position_description\": \"NaN\", \"started_on\": \"08/06/1995\", \"ended_on\": \"09/06/1997\"}, {\"company_name\": \"ATT InoxDrain\", \"seniority_level\": \"VP\", \"title\": \"VP- Investor Relations\", \"position_description\": \"NaN\", \"started_on\": \"01/01/2002\", \"ended_on\": \"01/01/2005\"}, {\"company_name\": \"Survey Monkey\", \"seniority_level\": \"CXO\", \"title\": \"Chief Financial Officer\", \"position_description\": \"NaN\", \"started_on\": \"12/06/2022\", \"ended_on\": \"NaN\"}]}'), Document(page_content='{\"person_id\": 22659320, \"name\": \"Sean Galligan\", \"education\": [{\"institution_name\": \"Cornell University\", \"degree\": \"Master Of Business Administration;Masters\", \"subject\": \"NaN\", \"started_on\": \"NaN\", \"ended_on\": \"NaN\"}, {\"institution_name\": \"Cornell Johnson Graduate School Of Management\", \"degree\": \"Master Of Business Administration;Masters\", \"subject\": \"Management\", \"started_on\": \"NaN\", \"ended_on\": \"NaN\"}, {\"institution_name\": \"Purdue University\", \"degree\": \"Bachelors;Bachelor Of Science\", \"subject\": \"Economics\", \"started_on\": \"NaN\", \"ended_on\": \"NaN\"}], \"employments\": [{\"company_name\": \"Flurry\", \"seniority_level\": \"VP\", \"title\": \"Vice President Of Sales And Business Development\", \"position_description\": \"NaN\", \"started_on\": \"11/01/2010\", \"ended_on\": \"08/01/2014\"}, {\"company_name\": \"Coupa Software\", \"seniority_level\": \"NaN\", \"title\": \"Mentor\", \"position_description\": \"NaN\", \"started_on\": \"09/01/2014\", \"ended_on\": \"NaN\", \"company_revenue_amount_usd\": 698754340.0, \"company_headcount\": 3666}, {\"company_name\": \"Yahoo\", \"seniority_level\": \"VP\", \"title\": \"Vice President Sales And Industry Lead - Technology, Media And Telecommunications\", \"position_description\": \"NaN\", \"started_on\": \"12/01/2016\", \"ended_on\": \"09/01/2017\"}, {\"company_name\": \"Yahoo\", \"seniority_level\": \"VP\", \"title\": \"Vice President Sales And Industry Lead - Media And Entertainment\", \"position_description\": \"NaN\", \"started_on\": \"09/01/2015\", \"ended_on\": \"12/01/2016\"}, {\"company_name\": \"Verizon Media\", \"seniority_level\": \"VP\", \"title\": \"Vice President Sales And Industry Lead - Technology\", \"position_description\": \"NaN\", \"started_on\": \"09/01/2017\", \"ended_on\": \"05/01/2019\"}, {\"company_name\": \"Flurry From Yahoo\", \"seniority_level\": \"VP\", \"title\": \"Vice President Of Business Development\", \"position_description\": \"NaN\", \"started_on\": \"02/01/2007\", \"ended_on\": \"11/01/2010\"}, {\"company_name\": \"Sprint\", \"seniority_level\": \"Manager\", \"title\": \"E-Business Solutions Manager\", \"position_description\": \"NaN\", \"started_on\": \"01/01/2000\", \"ended_on\": \"01/01/2003\"}, {\"company_name\": \"Sprint\", \"seniority_level\": \"Director\", \"title\": \"Regional Sales Director\", \"position_description\": \"NaN\", \"started_on\": \"01/01/2002\", \"ended_on\": \"01/01/2004\"}, {\"company_name\": \"Global Motorsport Group Inc\", \"seniority_level\": \"VP\", \"title\": \"Senior Vice President Of Commercial Operations\", \"position_description\": \"NaN\", \"started_on\": \"11/01/2004\", \"ended_on\": \"11/01/2006\"}, {\"company_name\": \"Twitter\", \"seniority_level\": \"NaN\", \"title\": \"Head Of Enterprise Sales And Partnerships\", \"position_description\": \"NaN\", \"started_on\": \"04/01/2020\", \"ended_on\": \"NaN\", \"company_revenue_amount_usd\": 1411687950.0, \"company_headcount\": 3346}]}')]\n"
     ]
    }
   ],
   "source": [
    "r1 = vector_db.similarity_search(expanded_context)\n",
    "print(\"Similarity search results:\", r1)"
   ]
  },
  {
   "cell_type": "code",
   "execution_count": 20,
   "metadata": {},
   "outputs": [
    {
     "name": "stdout",
     "output_type": "stream",
     "text": [
      "Final response: Based on the provided data, it appears that Sean Galligan has attended Cornell University and Purdue University, which are both Ivy League institutions.\n",
      "\n",
      "Here is a summary of Sean Galligan's educational background:\n",
      "\n",
      "* Master of Business Administration (MBA) from Cornell Johnson Graduate School of Management\n",
      "* MBA/Masters degree from Cornell University\n",
      "* Bachelor of Science in Economics from Purdue University\n",
      "\n",
      "Please note that this analysis only considers the provided data and may not be exhaustive or accurate.\n"
     ]
    }
   ],
   "source": [
    "r2 = ask_question(query, r1)\n",
    "print(\"Final response:\", r2)"
   ]
  },
  {
   "cell_type": "code",
   "execution_count": null,
   "metadata": {},
   "outputs": [],
   "source": [
    " "
   ]
  }
 ],
 "metadata": {
  "kernelspec": {
   "display_name": "Python 3",
   "language": "python",
   "name": "python3"
  },
  "language_info": {
   "codemirror_mode": {
    "name": "ipython",
    "version": 3
   },
   "file_extension": ".py",
   "mimetype": "text/x-python",
   "name": "python",
   "nbconvert_exporter": "python",
   "pygments_lexer": "ipython3",
   "version": "3.12.2"
  }
 },
 "nbformat": 4,
 "nbformat_minor": 2
}
